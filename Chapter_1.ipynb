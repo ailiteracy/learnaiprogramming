{
 "cells": [
  {
   "cell_type": "markdown",
   "id": "11339a4f-473e-47ee-8e06-1152cc63b98f",
   "metadata": {},
   "source": [
    "# CHAPTER 1 - Library installation and Basics"
   ]
  },
  {
   "cell_type": "code",
   "execution_count": null,
   "id": "06e808dd-c0f9-408c-8278-d2c315ad2d71",
   "metadata": {},
   "outputs": [],
   "source": [
    "# !pip install openai"
   ]
  },
  {
   "cell_type": "code",
   "execution_count": 1,
   "id": "24363ee3-4955-4561-ac9b-3500cfdbe4b6",
   "metadata": {},
   "outputs": [],
   "source": [
    "import openai\n",
    "import os\n",
    "\n",
    "# openai.api_key  = \"sk-vuZEBvfa0UUAiGmYJPkqT3BlcFFJNhaT2TGHrJA6MdLHCxud\"\n",
    "openai.api_key  = os.getenv('OPENAI_API_KEY')"
   ]
  },
  {
   "cell_type": "code",
   "execution_count": 2,
   "id": "7ac709a5-4988-4b56-abfc-d64416df9a44",
   "metadata": {},
   "outputs": [],
   "source": [
    "def get_completion(prompt):\n",
    "    messages = [{\"role\": \"user\", \"content\": prompt}]\n",
    "    response = openai.ChatCompletion.create(\n",
    "        model=\"gpt-3.5-turbo\",\n",
    "        messages=messages,\n",
    "        temperature=0.1, \n",
    "    )\n",
    "    return response.choices[0].message[\"content\"]"
   ]
  },
  {
   "cell_type": "code",
   "execution_count": 3,
   "id": "d805d721-a6b9-43a6-816e-693488e0ac03",
   "metadata": {},
   "outputs": [],
   "source": [
    "prompt = \"When Indian constitution was adopted?\""
   ]
  },
  {
   "cell_type": "code",
   "execution_count": 4,
   "id": "abfe6e3b-6607-46ef-93b9-9b5b050a3977",
   "metadata": {},
   "outputs": [
    {
     "name": "stdout",
     "output_type": "stream",
     "text": [
      "The Indian Constitution was adopted on November 26, 1949.\n"
     ]
    }
   ],
   "source": [
    "output = get_completion(prompt)\n",
    "print(output)"
   ]
  },
  {
   "cell_type": "markdown",
   "id": "e2aa6f7a-6b9b-4728-a903-838ec6d38217",
   "metadata": {},
   "source": [
    "## Example 1 - Summarization"
   ]
  },
  {
   "cell_type": "code",
   "execution_count": null,
   "id": "6de6923d-a4bb-430c-8018-e758aceec84a",
   "metadata": {},
   "outputs": [],
   "source": [
    "text = \"\"\"\n",
    "Consuming a healthy diet throughout the life-course helps to prevent malnutrition in all its forms as well as a range of noncommunicable diseases (NCDs) and conditions. However, increased production of processed foods, rapid urbanization and changing lifestyles have led to a shift in dietary patterns. People are now consuming more foods high in energy, fats, free sugars and salt/sodium, and many people do not eat enough fruit, vegetables and other dietary fibre such as whole grains.\n",
    "\n",
    "The exact make-up of a diversified, balanced and healthy diet will vary depending on individual characteristics (e.g. age, gender, lifestyle and degree of physical activity), cultural context, locally available foods and dietary customs. However, the basic principles of what constitutes a healthy diet remain the same.\n",
    "\n",
    "For adults\n",
    "A healthy diet includes the following:\n",
    "\n",
    "Fruit, vegetables, legumes (e.g. lentils and beans), nuts and whole grains (e.g. unprocessed maize, millet, oats, wheat and brown rice).\n",
    "At least 400 g (i.e. five portions) of fruit and vegetables per day (2), excluding potatoes, sweet potatoes, cassava and other starchy roots.\n",
    "Less than 10% of total energy intake from free sugars (2, 7), which is equivalent to 50 g (or about 12 level teaspoons) for a person of healthy body weight consuming about 2000 calories per day, but ideally is less than 5% of total energy intake for additional health benefits (7). Free sugars are all sugars added to foods or drinks by the manufacturer, cook or consumer, as well as sugars naturally present in honey, syrups, fruit juices and fruit juice concentrates.\n",
    "Less than 30% of total energy intake from fats (1, 2, 3). Unsaturated fats (found in fish, avocado and nuts, and in sunflower, soybean, canola and olive oils) are preferable to saturated fats (found in fatty meat, butter, palm and coconut oil, cream, cheese, ghee and lard) and trans-fats of all kinds, including both industrially-produced trans-fats (found in baked and fried foods, and pre-packaged snacks and foods, such as frozen pizza, pies, cookies, biscuits, wafers, and cooking oils and spreads) and ruminant trans-fats (found in meat and dairy foods from ruminant animals, such as cows, sheep, goats and camels). It is suggested that the intake of saturated fats be reduced to less than 10% of total energy intake and trans-fats to less than 1% of total energy intake (5). In particular, industrially-produced trans-fats are not part of a healthy diet and should be avoided (4, 6).\n",
    "Less than 5  g of salt (equivalent to about one teaspoon) per day (8).  Salt should be iodized.\n",
    "For infants and young children\n",
    "In the first 2 years of a child’s life, optimal nutrition fosters healthy growth and improves cognitive development. It also reduces the risk of becoming overweight or obese and developing NCDs later in life.\n",
    "\n",
    "Advice on a healthy diet for infants and children is similar to that for adults, but the following elements are also important:\n",
    "\n",
    "Infants should be breastfed exclusively during the first 6 months of life.\n",
    "Infants should be breastfed continuously until 2 years of age and beyond.\n",
    "From 6 months of age, breast milk should be complemented with a variety of adequate, safe and nutrient-dense foods. Salt and sugars should not be added to complementary foods.\n",
    "Practical advice on maintaining a healthy diet\n",
    "Fruit and vegetables\n",
    "Eating at least 400 g, or five portions, of fruit and vegetables per day reduces the risk of NCDs (2) and helps to ensure an adequate daily intake of dietary fibre.\n",
    "\n",
    "Fruit and vegetable intake can be improved by:\n",
    "\n",
    "always including vegetables in meals;\n",
    "eating fresh fruit and raw vegetables as snacks;\n",
    "eating fresh fruit and vegetables that are in season; and\n",
    "eating a variety of fruit and vegetables.\n",
    "Fats\n",
    "Reducing the amount of total fat intake to less than 30% of total energy intake helps to prevent unhealthy weight gain in the adult population (1, 2, 3). Also, the risk of developing NCDs is lowered by:\n",
    "\n",
    "reducing saturated fats to less than 10% of total energy intake;\n",
    "reducing trans-fats to less than 1% of total energy intake; and\n",
    "replacing both saturated fats and trans-fats with unsaturated fats (2, 3) – in particular, with polyunsaturated fats.\n",
    "Fat intake, especially saturated fat and industrially-produced trans-fat intake, can be reduced by:\n",
    "\n",
    "steaming or boiling instead of frying when cooking;\n",
    "replacing butter, lard and ghee with oils rich in polyunsaturated fats, such as soybean, canola (rapeseed), corn, safflower and sunflower oils;\n",
    "eating reduced-fat dairy foods and lean meats, or trimming visible fat from meat; and\n",
    "limiting the consumption of baked and fried foods, and pre-packaged snacks and foods (e.g. doughnuts, cakes, pies, cookies, biscuits and wafers) that contain industrially-produced trans-fats.\n",
    "Salt, sodium and potassium\n",
    "Most people consume too much sodium through salt (corresponding to consuming an average of 9–12 g of salt per day) and not enough potassium (less than 3.5 g). High sodium intake and insufficient potassium intake contribute to high blood pressure, which in turn increases the risk of heart disease and stroke (8, 11).\n",
    "\n",
    "Reducing salt intake to the recommended level of less than 5 g per day could prevent 1.7 million deaths each year (12).\n",
    "\n",
    "People are often unaware of the amount of salt they consume. In many countries, most salt  comes from processed foods (e.g. ready meals; processed meats such as bacon, ham and salami; cheese; and salty snacks) or from foods consumed frequently in large amounts (e.g. bread). Salt is also added to foods during cooking (e.g. bouillon, stock cubes, soy sauce and fish sauce) or at the point of consumption (e.g. table salt).\n",
    "\n",
    "Salt intake can be reduced by:\n",
    "\n",
    "limiting the amount of salt and high-sodium condiments (e.g. soy sauce, fish sauce and bouillon) when cooking and preparing foods;\n",
    "not having salt or high-sodium sauces on the table;\n",
    "limiting the consumption of salty snacks; and\n",
    "choosing products with lower sodium content.\n",
    "Some food manufacturers are reformulating recipes to reduce the sodium content of their products, and people should be encouraged to check nutrition labels to see how much sodium is in a product before purchasing or consuming it.\n",
    "\n",
    "Potassium can mitigate the negative effects of elevated sodium consumption on blood pressure. Intake of potassium can be increased by consuming fresh fruit and vegetables.\n",
    "\n",
    "Sugars\n",
    "In both adults and children, the intake of free sugars should be reduced to less than 10% of total energy intake (2, 7).  A reduction to less than 5% of total energy intake would provide additional health benefits (7).\n",
    "\n",
    "Consuming free sugars increases the risk of dental caries (tooth decay). Excess calories from foods and drinks high in free sugars also contribute to unhealthy weight gain, which can lead to overweight and obesity. Recent evidence also shows that free sugars influence blood pressure and serum lipids, and suggests that a reduction in free sugars intake reduces risk factors for cardiovascular diseases (13).\n",
    "\n",
    "Sugars intake can be reduced by:\n",
    "\n",
    "limiting the consumption of foods and drinks containing high amounts of sugars, such as sugary snacks, candies and sugar-sweetened beverages (i.e. all types of beverages containing free sugars – these include carbonated or non‐carbonated soft drinks, fruit or vegetable juices and drinks, liquid and powder concentrates, flavoured water, energy and sports drinks, ready‐to‐drink tea, ready‐to‐drink coffee and flavoured milk drinks); and\n",
    "eating fresh fruit and raw vegetables as snacks instead of sugary snacks.\n",
    "\"\"\"\n"
   ]
  },
  {
   "cell_type": "code",
   "execution_count": null,
   "id": "db03baf3-5522-481a-804d-51571a5377c0",
   "metadata": {},
   "outputs": [],
   "source": [
    "prompt = f\"\"\"\n",
    "Summarize the text delimited by triple backticks \\ \n",
    "into one paragraph.\n",
    "```{text}```\n",
    "\"\"\"\n",
    "response = get_completion(prompt)\n",
    "display(response)"
   ]
  },
  {
   "cell_type": "markdown",
   "id": "9547febc-7c82-430e-ba80-524144c33540",
   "metadata": {},
   "source": [
    "## Example 2 - Extracting info from text in JSON format"
   ]
  },
  {
   "cell_type": "code",
   "execution_count": 5,
   "id": "dc29817d-733f-4863-8ad3-50cce0db2a37",
   "metadata": {},
   "outputs": [],
   "source": [
    "text_car_sales = \"\"\"\n",
    "Tata Motors Consolidated:\n",
    "TML continued its strong performance in Q1 FY24 with Revenues at ₹102.2K Cr (up 42% yoy), EBITDA at ₹14.7K Cr (up\n",
    "177% yoy) and EBIT of ₹8.3KCr (higher by ₹8.8KCr), all showing a sharp improvement driven by JLR and CV businesses\n",
    "whilst the PV business was steady. JLR revenues improved by 57% to £6.9b on strong wholesales and improved mix\n",
    "resulting in EBIT margins of 8.6% (+1,300bps). CV volumes were lower by 15% over prior year due to transition to BS6\n",
    "Phase 2. However, the EBIT margins improved to 6.5% (+370bps) benefiting from the demand-pull strategy and richer mix.\n",
    "PV business was steady with 11.1% revenue growth and EBIT of 1.0% (+10bps). Overall PBT (bei) improved by ₹10.3KCr to\n",
    "₹5.3KCr and Net Profit was ₹3.3KCr.\n",
    "Looking Ahead:\n",
    "We remain optimistic on the demand situation despite near term uncertainties and expect a moderate inflationary\n",
    "environment to continue in the near term. We aim to deliver a strong performance in the rest of the year too, thanks to\n",
    "a healthy order book coupled with low-break-even in JLR, a steady improvement in demand whilst we continue to drive\n",
    "our demand-pull strategy in CV, a set of exciting launches ahead of the festive season in PV and continued aggression in\n",
    "EVs.\n",
    "PB Balaji, Group Chief Financial Officer, Tata Motors said:\n",
    "“FY24 has begun on the right note with all automotive verticals delivering strong performances. The distinct strategy\n",
    "employed by each business is now delivering consistent results and making them structurally stronger. We remain\n",
    "confident of sustaining this momentum in the rest of the year and achieve our stated goals.”\n",
    "Q\n",
    "1 FY2\n",
    "4\n",
    "Consolidated\n",
    "(₹ Cr Ind AS)\n",
    "Jaguar Land Rover\n",
    "(£m, IFRS)\n",
    "Tata Commercial\n",
    "Vehicles (₹Cr, Ind AS)\n",
    "Tata Passenger\n",
    "Vehicles (₹Cr, Ind AS)\n",
    "FY24 Vs. PY FY24 Vs. PY FY24 Vs. PY FY24 Vs. PY\n",
    "Revenue 102,236 42.1 % 6,903 57.0 % 16,991 4.4% 12,839 11.1 %\n",
    "EBITDA (%) 14.4 700 bps 16.3 960 bps 9.4 390 bps 5.3 (80) bps\n",
    "EBIT (%) 8.1 880 bps 8.6 1,300 bps 6.5 370 bps 1.0 10 bps\n",
    "PBT (bei) 5,330 ₹10,292crs 435 £959m 937 ₹635 crs 186 ₹172 crs\n",
    "Tata Motors Group Results Q1 FY24 July 25, 2023\n",
    "Page 2 of 5\n",
    "Highlights\n",
    "• Revenues in Q1 FY24 of £6.9 billion, up 57% (y-o-y).\n",
    "• PBT (bei) in Q1 FY24 was £435 million, up £67 million from Q4 FY23 and up nearly £1 billion from Q1 FY23.\n",
    "• EBIT margin in the quarter was 8.6%, up from 6.5% in Q4 FY23.\n",
    "• The higher profitability year-on-year reflects favourable volume, mix, pricing and foreign exchange revaluation\n",
    "offset partially by higher inflation and supplier claims.\n",
    "• FCF of £451 million, the highest JLR Q1 cash flow on record; cumulative FCF over the last three quarters is £1.8\n",
    "billion.\n",
    "• Cash on hand increased to £4 billion and net debt reduced to £2.5 billion at June 30, 2023.\n",
    "• Order book strong at 185k units with Range Rover, Range Rover Sport and Defender representing 76% of the order\n",
    "book.\n",
    "• Adrian Mardell and Richard Molyneux confirmed as Chief Executive Officer and Chief Financial Officer respectively.\n",
    "• Tata’s newly announced £4bn UK gigafactory will provide JLR with stable and secure supply of battery cells to\n",
    "electrify JLR’s next generation modern luxury vehicles.\n",
    "Reimagine Transformation\n",
    "• Our first Reimagined modern luxury electric vehicle to go on sale will be Range Rover BEV, available for pre-order\n",
    "later this year and on sale in 2024.\n",
    "• Range Rover Sport named the 2023 Auto Express Large Premium SUV of the year 2023.\n",
    "• JLR’s Jaguar and Land Rover (Range Rover, Defender, Discovery) brands placed top of a J.D. Power US ‘Automotive\n",
    "Performance, Execution and Layout (APEAL)’ based on client perceptions of design, performance, safety, comfort\n",
    "and quality.\n",
    "• Model year refreshes of Discovery Sport and Range Rover Evoque with significant interior upgrades. Outbound\n",
    "Edition of Defender 130 launched.\n",
    "• Limited edition New Range Rover Sport SV EDITION ONE, with pricing ranging from £168,800 to more than\n",
    "£190,000 in the UK, was fully reserved ahead of its launch in May, following exclusive Range Rover House preview\n",
    "events.\n",
    "• Digital transformation continues with Tata Technologies to support Enterprise Risk Management (ERM) across the\n",
    "business and with Everstream to use AI to monitor our global supply chains.\n",
    "\n",
    "\"\"\""
   ]
  },
  {
   "cell_type": "code",
   "execution_count": 6,
   "id": "ee892fd9-a2c2-47e4-b879-6d41800e65c0",
   "metadata": {},
   "outputs": [],
   "source": [
    "prompt = f\"\"\"\n",
    "Extract the numbers with their key from the below text delimited by triple backticks.\n",
    "Use JSON format to show your result.\n",
    "\n",
    "```{text_car_sales}```\n",
    "\"\"\"\n",
    "response = get_completion(prompt)"
   ]
  },
  {
   "cell_type": "code",
   "execution_count": null,
   "id": "fa57d907-0b0a-482c-9587-7cfef109fe0d",
   "metadata": {},
   "outputs": [],
   "source": []
  },
  {
   "cell_type": "code",
   "execution_count": 7,
   "id": "e65c50d4-8325-4904-a599-fe03bde4434d",
   "metadata": {},
   "outputs": [
    {
     "name": "stdout",
     "output_type": "stream",
     "text": [
      "{\n",
      "  \"Revenues\": {\n",
      "    \"Tata Motors Consolidated\": \"₹102.2K Cr\",\n",
      "    \"Jaguar Land Rover\": \"£6.9b\",\n",
      "    \"Tata Commercial Vehicles\": \"₹16,991 Cr\",\n",
      "    \"Tata Passenger Vehicles\": \"₹12,839 Cr\"\n",
      "  },\n",
      "  \"EBITDA\": {\n",
      "    \"Tata Motors Consolidated\": \"₹14.7K Cr\",\n",
      "    \"Jaguar Land Rover\": \"16.3\",\n",
      "    \"Tata Commercial Vehicles\": \"9.4\",\n",
      "    \"Tata Passenger Vehicles\": \"5.3\"\n",
      "  },\n",
      "  \"EBIT\": {\n",
      "    \"Tata Motors Consolidated\": \"₹8.3KCr\",\n",
      "    \"Jaguar Land Rover\": \"8.6\",\n",
      "    \"Tata Commercial Vehicles\": \"6.5\",\n",
      "    \"Tata Passenger Vehicles\": \"1.0\"\n",
      "  },\n",
      "  \"PBT (bei)\": {\n",
      "    \"Tata Motors Consolidated\": \"₹5.3KCr\",\n",
      "    \"Jaguar Land Rover\": \"435\",\n",
      "    \"Tata Commercial Vehicles\": \"937\",\n",
      "    \"Tata Passenger Vehicles\": \"186\"\n",
      "  }\n",
      "}\n"
     ]
    }
   ],
   "source": [
    "print(response)"
   ]
  },
  {
   "cell_type": "code",
   "execution_count": null,
   "id": "ca5b1117-61a7-4fc7-b37a-d34a1f2d5a0e",
   "metadata": {},
   "outputs": [],
   "source": [
    "import json\n",
    "parse_response = json.loads(response)"
   ]
  },
  {
   "cell_type": "code",
   "execution_count": null,
   "id": "6b9d42f3-ff72-4d62-b1fb-8eb3944702b0",
   "metadata": {},
   "outputs": [],
   "source": [
    "parse_response"
   ]
  },
  {
   "cell_type": "code",
   "execution_count": null,
   "id": "f11b4536-3767-4df9-9ccd-71b1c1263f71",
   "metadata": {},
   "outputs": [],
   "source": [
    "import pandas as pd\n",
    "pd.DataFrame(parse_response)"
   ]
  },
  {
   "cell_type": "code",
   "execution_count": null,
   "id": "5cd3de81-168d-4c89-8371-320459bfa3be",
   "metadata": {},
   "outputs": [],
   "source": [
    "pd.DataFrame(parse_response).T"
   ]
  },
  {
   "cell_type": "markdown",
   "id": "66e3be09-126c-472e-b2ec-94072ca107aa",
   "metadata": {},
   "source": [
    "# CHAPTER 2"
   ]
  },
  {
   "cell_type": "code",
   "execution_count": null,
   "id": "c1641e56-29e7-4c07-b72b-a3d02a67173a",
   "metadata": {},
   "outputs": [],
   "source": []
  }
 ],
 "metadata": {
  "kernelspec": {
   "display_name": "Python 3 (ipykernel)",
   "language": "python",
   "name": "python3"
  },
  "language_info": {
   "codemirror_mode": {
    "name": "ipython",
    "version": 3
   },
   "file_extension": ".py",
   "mimetype": "text/x-python",
   "name": "python",
   "nbconvert_exporter": "python",
   "pygments_lexer": "ipython3",
   "version": "3.11.5"
  }
 },
 "nbformat": 4,
 "nbformat_minor": 5
}
